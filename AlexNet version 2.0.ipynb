{
 "cells": [
  {
   "cell_type": "markdown",
   "metadata": {},
   "source": [
    "# Extracting features from AlexNet"
   ]
  },
  {
   "cell_type": "code",
   "execution_count": null,
   "metadata": {},
   "outputs": [],
   "source": [
    "import numpy as np\n",
    "import matplotlib.pyplot as plt\n",
    "import tensorflow as tf\n",
    "from scipy.misc import imresize\n",
    "from imageio import imread\n",
    "import pandas as pd\n",
    "import os\n",
    "from PIL import Image\n",
    "% matplotlib notebook\n",
    "from ipywidgets import FloatProgress\n",
    "from IPython.display import display\n",
    "from numba import jit"
   ]
  },
  {
   "cell_type": "markdown",
   "metadata": {},
   "source": [
    "importing alexnet class"
   ]
  },
  {
   "cell_type": "code",
   "execution_count": null,
   "metadata": {},
   "outputs": [],
   "source": [
    "from funcs import activate_layer, single_map, reset_graph\n",
    "from alexnet import Alexnet"
   ]
  },
  {
   "cell_type": "code",
   "execution_count": null,
   "metadata": {},
   "outputs": [],
   "source": [
    "reset_graph()\n",
    "train_x = np.zeros((1, 227,227,3)).astype(np.float32)\n",
    "train_y = np.zeros((1, 1000))\n",
    "xdim = train_x.shape[1:]\n",
    "ydim = train_y.shape[1]"
   ]
  },
  {
   "cell_type": "markdown",
   "metadata": {},
   "source": [
    "Placeholder for nodes"
   ]
  },
  {
   "cell_type": "code",
   "execution_count": null,
   "metadata": {},
   "outputs": [],
   "source": [
    "x = tf.placeholder(tf.float32, (None,) + xdim)"
   ]
  },
  {
   "cell_type": "markdown",
   "metadata": {},
   "source": [
    "Creating an instance of Alexnet model"
   ]
  },
  {
   "cell_type": "code",
   "execution_count": null,
   "metadata": {},
   "outputs": [],
   "source": [
    "model = Alexnet(x,weights_path='data/bvlc_alexnet.npy')"
   ]
  },
  {
   "cell_type": "markdown",
   "metadata": {},
   "source": [
    "Creating 4 diffrent models"
   ]
  },
  {
   "cell_type": "code",
   "execution_count": null,
   "metadata": {},
   "outputs": [],
   "source": [
    "maxpool5_normal = model.network(mx5_params = [3,3,2,2,'maxpool'])\n",
    "maxpool5_4 = model.network(mx5_params = [4,4,3,3,'maxpool'])\n",
    "avgpool5_4 = model.network(mx5_params = [4,4,3,3,'avgpool'])\n",
    "fc6 = model.network()"
   ]
  },
  {
   "cell_type": "code",
   "execution_count": null,
   "metadata": {},
   "outputs": [],
   "source": [
    "init = tf.global_variables_initializer()\n",
    "sess = tf.Session()\n",
    "sess.run(init)"
   ]
  },
  {
   "cell_type": "markdown",
   "metadata": {},
   "source": [
    "Function: \n",
    "* activate_layer - to activate layers with in an image\n",
    "* single_map - get map by type"
   ]
  },
  {
   "cell_type": "markdown",
   "metadata": {},
   "source": [
    "# Extracting data from diffrent initial models\n",
    "(normal maxpooling: $F = 3x3$ and $S = 2x2$)\n",
    "\n",
    "1. Classic $-$ normal maxpooling on conv5, parameters from fc6 (4096)\n",
    "\n",
    "* without FC #1 $-$ max pooling:  $F = 4x4$ and $S = 3x3$ $\\rightarrow$ $4x4x256$ + flattening to $1x4096$\n",
    "* without FC #2 $-$ average pooling:  $F = 4x4$ and $S = 3x3$ $\\rightarrow$ $4x4x256$ + flattening to $1x4096$\n",
    "\n",
    "\n"
   ]
  },
  {
   "cell_type": "markdown",
   "metadata": {},
   "source": [
    "## 1. Classic"
   ]
  },
  {
   "cell_type": "code",
   "execution_count": null,
   "metadata": {},
   "outputs": [],
   "source": [
    "data,files = layer_params(fc6,data_directory='data/merged_data',type_= None)\n",
    "q = pd.DataFrame(data.T,columns = files)\n",
    "q.to_csv('data/Classic.csv', sep='\\t', encoding='utf-8')"
   ]
  },
  {
   "cell_type": "markdown",
   "metadata": {},
   "source": [
    "## 2. Without FC, 4x4  maxpooling "
   ]
  },
  {
   "cell_type": "code",
   "execution_count": null,
   "metadata": {},
   "outputs": [],
   "source": [
    "data,files = layer_params(maxpool5_4,data_directory='data/merged_data',type_= 'diff_pool')\n",
    "q = pd.DataFrame(data.T,columns = files)\n",
    "q.to_csv('data/Non-classic-max.csv', sep='\\t', encoding='utf-8')"
   ]
  },
  {
   "cell_type": "markdown",
   "metadata": {},
   "source": [
    "## 3. Without FC, 4x4 average pooling"
   ]
  },
  {
   "cell_type": "code",
   "execution_count": null,
   "metadata": {},
   "outputs": [],
   "source": [
    "data,files = layer_params(avgpool5_4,data_directory='data/merged_data',type_= 'diff_pool')\n",
    "q = pd.DataFrame(data.T,columns = files)\n",
    "q.to_csv('data/Non-classic-ave.csv', sep='\\t', encoding='utf-8')"
   ]
  }
 ],
 "metadata": {
  "kernelspec": {
   "display_name": "Python 3",
   "language": "python",
   "name": "python3"
  },
  "language_info": {
   "codemirror_mode": {
    "name": "ipython",
    "version": 3
   },
   "file_extension": ".py",
   "mimetype": "text/x-python",
   "name": "python",
   "nbconvert_exporter": "python",
   "pygments_lexer": "ipython3",
   "version": "3.6.4"
  }
 },
 "nbformat": 4,
 "nbformat_minor": 2
}
