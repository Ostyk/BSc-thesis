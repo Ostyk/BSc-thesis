{
 "cells": [
  {
   "cell_type": "code",
   "execution_count": 1,
   "metadata": {},
   "outputs": [],
   "source": [
    "import pandas as pd\n",
    "import numpy as np\n",
    "import os\n",
    "import time\n",
    "from final import *\n",
    "import matplotlib.pyplot as plt\n",
    "from matplotlib import rc\n",
    "rc('font', **{'family': 'serif', 'serif': ['Computer Modern']})\n",
    "rc('text', usetex=True)\n"
   ]
  },
  {
   "cell_type": "code",
   "execution_count": 2,
   "metadata": {},
   "outputs": [],
   "source": [
    "data = {}\n",
    "for i in os.listdir('data'):\n",
    "    if i[-3:] == 'csv':\n",
    "        name = i.split('.')[0]\n",
    "        data.update({name:pd.read_csv('data/'+name+'.csv',sep='\\t').iloc[:,1:]})\n",
    "\n",
    "ground_truth = data['dataset']\n",
    "labels=[]\n",
    "for i in range(ground_truth.shape[0]):\n",
    "    if ground_truth['type'][i] == 'benign':\n",
    "        labels.append(0)\n",
    "    elif ground_truth['type'][i] == 'malignant':\n",
    "        labels.append(1)\n",
    "y=np.array(labels)"
   ]
  },
  {
   "cell_type": "markdown",
   "metadata": {},
   "source": [
    "# Model selection"
   ]
  },
  {
   "cell_type": "code",
   "execution_count": 3,
   "metadata": {},
   "outputs": [
    {
     "data": {
      "text/plain": [
       "[('Classic', 'DR0'),\n",
       " ('Classic', 'DR1'),\n",
       " ('Classic', 'DR2'),\n",
       " ('Non-classic-ave', 'DR0'),\n",
       " ('Non-classic-ave', 'DR1'),\n",
       " ('Non-classic-ave', 'DR2'),\n",
       " ('Non-classic-max', 'DR0'),\n",
       " ('Non-classic-max', 'DR1'),\n",
       " ('Non-classic-max', 'DR2')]"
      ]
     },
     "execution_count": 3,
     "metadata": {},
     "output_type": "execute_result"
    }
   ],
   "source": [
    "models = ['Classic','Non-classic-ave','Non-classic-max']\n",
    "DR = ['DR0','DR1','DR2']\n",
    "permutations = [(x,z) for x in models for z in DR]\n",
    "permutations"
   ]
  },
  {
   "cell_type": "markdown",
   "metadata": {},
   "source": [
    "# $Balanced$ dataset"
   ]
  },
  {
   "cell_type": "code",
   "execution_count": 10,
   "metadata": {},
   "outputs": [
    {
     "name": "stdout",
     "output_type": "stream",
     "text": [
      "129.2 1e-05\n",
      "129.2 1e-05\n",
      "129.2 1e-05\n",
      "129.2 1e-05\n"
     ]
    }
   ],
   "source": [
    "models = ['Non-classic-ave','Non-classic-max']\n",
    "DR = ['DR2']\n",
    "permutations = [(x,z) for x in models for z in DR]\n",
    "all_b = []\n",
    "all_nb = []\n",
    "for index, (mod, c1) in enumerate(permutations):\n",
    "    score, r, numbers = model(X = np.array(data[mod].T),\n",
    "                    y = y,\n",
    "                    balanced = True,\n",
    "                    n_splits = 5,\n",
    "                    DR = c1,\n",
    "                    seed = 42,\n",
    "                    model_name = mod)\n",
    "    score, r, numbers1 = model(X = np.array(data[mod].T),\n",
    "                    y = y,\n",
    "                    balanced = False,\n",
    "                    n_splits = 5,\n",
    "                    DR = c1,\n",
    "                    seed = 42,\n",
    "                    model_name = mod)\n",
    "    all_b.append(numbers)\n",
    "    all_nb.append(numbers1)"
   ]
  },
  {
   "cell_type": "code",
   "execution_count": 11,
   "metadata": {},
   "outputs": [],
   "source": [
    "def plot_hists(all_n,name):\n",
    "    '''plots a histogram of map numbers from the KS-test reduction technique'''\n",
    "    t = np.zeros((4,4,256),dtype=np.int64) #emulating input\n",
    "    for i in range(t.shape[2]):\n",
    "        t[:,:,i]=np.int(i)\n",
    "    t1=t.reshape([-1]) #flattened\n",
    "    \n",
    "    def ploth(numbers,p):\n",
    "        counts = t1[numbers]\n",
    "        [n,b,c] = plt.hist(counts,bins=256,width=4)\n",
    "        if p==1:\n",
    "            plt.title(\"Non-classic-max\\ntop maps 10: {}\".format(list(np.argsort(n)[::-1][:10]+1)))\n",
    "        else:\n",
    "            plt.title(\"Non-classic-ave\\ntop 10 maps: {}\".format(list(np.argsort(n)[::-1][:10]+1)))\n",
    "        plt.xlabel(\"map numbers\")\n",
    "        plt.ylabel(\"frequency\")\n",
    "        return n\n",
    "    plt.figure(figsize=(13,3))\n",
    "    plt.subplot(121)\n",
    "    n = ploth(all_n[0],0)\n",
    "    #plt.show()\n",
    "    #plt.clf()\n",
    "    plt.subplot(122)\n",
    "    ploth(all_n[1],1)\n",
    "    plt.savefig(\"thesis_text/Pictures/\"+name+\"_hists.png\",bbox_inches='tight')\n",
    "    plt.show()\n",
    "    return n\n",
    "    "
   ]
  },
  {
   "cell_type": "code",
   "execution_count": 12,
   "metadata": {},
   "outputs": [
    {
     "data": {
      "image/png": "[encoded data removed]",
      "text/plain": [
       "<Figure size 936x216 with 2 Axes>"
      ]
     },
     "metadata": {},
     "output_type": "display_data"
    },
    {
     "data": {
      "text/plain": [
       "<Figure size 432x288 with 0 Axes>"
      ]
     },
     "metadata": {},
     "output_type": "display_data"
    },
    {
     "data": {
      "image/png": "[encoded data removed]",
      "text/plain": [
       "<Figure size 936x216 with 2 Axes>"
      ]
     },
     "metadata": {},
     "output_type": "display_data"
    }
   ],
   "source": [
    "n=plot_hists(all_b,\"balanced\")\n",
    "plt.clf()\n",
    "n=plot_hists(all_nb,\"imbalanced\")"
   ]
  },
  {
   "cell_type": "code",
   "execution_count": null,
   "metadata": {},
   "outputs": [],
   "source": [
    "def histogram_counts(param_numbers):\n",
    "    counts, bins = np.histogram(param_numbers, bins=256, range=(0, 4096))\n",
    "    plt.figure(figsize=(10,5))\n",
    "    plt.bar(range(1,257),counts)\n",
    "    plt.xlim([1,257])\n",
    "    plt.title(\"top maps: {},{},{},{},{},{},{},{},{},{}\".format(*np.argsort(counts)[:10]+1))"
   ]
  },
  {
   "cell_type": "code",
   "execution_count": null,
   "metadata": {},
   "outputs": [],
   "source": [
    "histogram_counts(all_n[0])"
   ]
  },
  {
   "cell_type": "code",
   "execution_count": null,
   "metadata": {},
   "outputs": [],
   "source": [
    "\n",
    "histogram_counts(all_n[1])\n"
   ]
  },
  {
   "cell_type": "code",
   "execution_count": null,
   "metadata": {},
   "outputs": [],
   "source": [
    "t1[535]"
   ]
  },
  {
   "cell_type": "code",
   "execution_count": null,
   "metadata": {},
   "outputs": [],
   "source": [
    "numbers"
   ]
  },
  {
   "cell_type": "code",
   "execution_count": null,
   "metadata": {},
   "outputs": [],
   "source": [
    "#train(data, y, True, models, DR, permutations)"
   ]
  },
  {
   "cell_type": "markdown",
   "metadata": {},
   "source": [
    "# $Imbalanced$ dataset"
   ]
  },
  {
   "cell_type": "code",
   "execution_count": null,
   "metadata": {},
   "outputs": [],
   "source": [
    "#train(data, y, False, models, DR, permutations)"
   ]
  }
 ],
 "metadata": {
  "kernelspec": {
   "display_name": "Python 3",
   "language": "python",
   "name": "python3"
  },
  "language_info": {
   "codemirror_mode": {
    "name": "ipython",
    "version": 3
   },
   "file_extension": ".py",
   "mimetype": "text/x-python",
   "name": "python",
   "nbconvert_exporter": "python",
   "pygments_lexer": "ipython3",
   "version": "3.6.4"
  }
 },
 "nbformat": 4,
 "nbformat_minor": 2
}
